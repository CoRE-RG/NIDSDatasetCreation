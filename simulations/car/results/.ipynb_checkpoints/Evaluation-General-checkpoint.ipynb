{
 "cells": [
  {
   "cell_type": "markdown",
   "id": "b937bcbe-3558-4b38-aab2-7b6d552b6690",
   "metadata": {},
   "source": [
    "#  Evaluations"
   ]
  },
  {
   "cell_type": "code",
   "execution_count": 5,
   "id": "f069135a-414f-486e-83ee-10ef860152a6",
   "metadata": {},
   "outputs": [],
   "source": [
    "import pandas as pd\n",
    "import re\n",
    "from omnetpp.scave import results, chart, utils\n",
    "%matplotlib inline  "
   ]
  },
  {
   "cell_type": "markdown",
   "id": "f57f50fd-9080-428b-8189-8117387e037f",
   "metadata": {},
   "source": [
    "## Max Latencies"
   ]
  },
  {
   "cell_type": "markdown",
   "id": "b6eac41e-d4ed-4bfa-bba2-e13d023312b4",
   "metadata": {
    "jp-MarkdownHeadingCollapsed": true
   },
   "source": [
    "### Function definitions"
   ]
  },
  {
   "cell_type": "code",
   "execution_count": 182,
   "id": "fb8bc43e-f121-44a7-bf0a-0f3a69f84c80",
   "metadata": {},
   "outputs": [],
   "source": [
    "def get_device(module):\n",
    "    return module.split(\".\")[1]\n",
    "\n",
    "def get_streamId(module, df):\n",
    "    # assumning that streamIds are deterministic\n",
    "    attrname = \"*.\" + module.split(\".\")[1] + \".\" + module.split(\".\")[2] + \".display-name\"\n",
    "    attrval = df.loc[df['attrname'] == attrname,'attrvalue']\n",
    "    try:\n",
    "        return attrval.to_list()[0].split(\" \")[0]\n",
    "    except:\n",
    "        return \" \"\n",
    "\n",
    "def streamencodings(df):\n",
    "    df_notna = df[df['attrname'].notna()]\n",
    "    all_encodings = df_notna.loc[df_notna['attrname'].str.contains(\".bridging.streamCoder.encoder.mapping\")]\n",
    "    # build a single json file based on streamname as key\n",
    "    encodings = dict()\n",
    "    for idx, row in all_encodings.iterrows():\n",
    "        dev = row['attrname']\n",
    "        encoding_str = row['attrvalue']\n",
    "        encoding = re.findall(r'\\{([^}]*)\\}', encoding_str)\n",
    "        for item in encoding:\n",
    "            enc = item.split(\",\")  \n",
    "            for e in enc:\n",
    "                if \"stream\" in e:\n",
    "                    stream = re.findall('\"([^\"]*)\"', e)[0]\n",
    "                elif \"pcp\" in e:\n",
    "                    pcp = re.findall(r'\\d+', e)[0]\n",
    "                elif \"vlan\" in e:\n",
    "                    vlan = re.findall(r'\\d+', e)[0]\n",
    "            # add infos to stream encoding\n",
    "            if stream in encodings.keys():\n",
    "                if pcp not in encodings[stream]['pcp']:\n",
    "                    encodings[stream]['pcp'].append(pcp)\n",
    "                if vlan not in encodings[stream]['vlan']:\n",
    "                    encodings[stream]['vlan'].append(vlan)\n",
    "                if dev not in encodings[stream]['dev']:\n",
    "                    encodings[stream]['dev'].append(dev)\n",
    "            else:\n",
    "                encodings[stream] = {'pcp' : [pcp],\n",
    "                                    'vlan' : [vlan],\n",
    "                                    'dev' : [dev]}\n",
    "    return encodings\n",
    "        \n",
    "def set_streamId(name): # streamnames are only sometimes deterministic, these are the special cases\n",
    "    if \"_\" in name: # CAN\n",
    "        return \"SControl\"\n",
    "    if name == \"SReset\": # a single stream that is not formatted the same\n",
    "        return \"SControl\"\n",
    "    if name == \" \": # Tcp-Stream\n",
    "        return \"SEtsiCamOut\"\n",
    "    \n",
    "    return name\n",
    "\n",
    "def get_pcp(streamname, device , df):\n",
    "    if \"zonalController\" in device:\n",
    "        attrname = \"*.zonalController*.bridging.streamCoder.decoder.mapping\"\n",
    "    else:\n",
    "        attrname = \"*.\" + device + \".bridging.streamCoder.decoder.mapping\"\n",
    "    \n",
    "    try:\n",
    "        decoding_str = df.loc[df['attrname']==attrname, 'attrvalue'].to_list()[0]\n",
    "        decoding = re.findall(r'\\{([^}]*)\\}', decoding_str)\n",
    "        # get pcp for the stream from the table\n",
    "        for item in decoding:\n",
    "            if (streamname + \"\\\"\") in item:\n",
    "                return item.split(\",\")[1][-1:]\n",
    "    except:\n",
    "        return \" \"\n",
    "\n",
    "def get_pcp_from_encodings(streamname, encodings):\n",
    "    try:\n",
    "        return encodings[streamname]['pcp'][0]\n",
    "    except:\n",
    "        return \" \"\n",
    "        \n",
    "\n",
    "def max_delay(vals):\n",
    "    return max(vals)\n",
    "\n",
    "\n",
    "def extract_e2edelay(df):\n",
    "    res = df[['runID','module', 'vectime', 'vecvalue']].dropna()\n",
    "    res['device'] = res.apply(lambda row: get_device(row['module']), axis=1)\n",
    "    res['streamname'] = res.apply(lambda row: get_streamId(row['module'], df), axis=1)\n",
    "    res['streamname-Control'] = res.apply(lambda row: set_streamId(row['streamname']), axis=1)\n",
    "    encodings  = streamencodings(df)\n",
    "    res['pcp'] = res.apply(lambda row: get_pcp_from_encodings(row['streamname-Control'], encodings), axis=1)\n",
    "    res['max e2e delay'] = res.apply(lambda row: max_delay(row['vecvalue']), axis=1)\n",
    "    \n",
    "    return res"
   ]
  },
  {
   "cell_type": "code",
   "execution_count": 15,
   "id": "9da831a8-dfc8-48ca-b2a8-04bdb9ec9ef8",
   "metadata": {},
   "outputs": [],
   "source": [
    "res = results.read_result_files(filenames = \"General-*.vec\",\n",
    "                                filter_expression = \"name =~ meanBitLifeTimePerPacket:vector\")"
   ]
  },
  {
   "cell_type": "markdown",
   "id": "cda88a15-776a-460c-988d-23b30fe8e323",
   "metadata": {},
   "source": [
    "### Evaluate latencies and jitter"
   ]
  },
  {
   "cell_type": "code",
   "execution_count": 183,
   "id": "a75d0e77-c30a-43e1-9f23-a075af9b088c",
   "metadata": {},
   "outputs": [],
   "source": [
    "latencies = extract_e2edelay(res)\n",
    "\n",
    "# TODO: save latencies in a file"
   ]
  },
  {
   "cell_type": "code",
   "execution_count": 197,
   "id": "edaa003a-c93f-430b-a579-4493cfc59adb",
   "metadata": {},
   "outputs": [
    {
     "data": {
      "text/html": [
       "<div>\n",
       "<style scoped>\n",
       "    .dataframe tbody tr th:only-of-type {\n",
       "        vertical-align: middle;\n",
       "    }\n",
       "\n",
       "    .dataframe tbody tr th {\n",
       "        vertical-align: top;\n",
       "    }\n",
       "\n",
       "    .dataframe thead th {\n",
       "        text-align: right;\n",
       "    }\n",
       "</style>\n",
       "<table border=\"1\" class=\"dataframe\">\n",
       "  <thead>\n",
       "    <tr style=\"text-align: right;\">\n",
       "      <th></th>\n",
       "      <th>pcp</th>\n",
       "      <th>max latency [s]</th>\n",
       "      <th>min latency [s]</th>\n",
       "      <th>jitter [s]</th>\n",
       "      <th>stream with max latency</th>\n",
       "    </tr>\n",
       "  </thead>\n",
       "  <tbody>\n",
       "    <tr>\n",
       "      <th>0</th>\n",
       "      <td>2</td>\n",
       "      <td>0.000224</td>\n",
       "      <td>0.000031</td>\n",
       "      <td>0.000193</td>\n",
       "      <td>[Car.connectivityGateway.app[0].connection[0]....</td>\n",
       "    </tr>\n",
       "    <tr>\n",
       "      <th>1</th>\n",
       "      <td>4</td>\n",
       "      <td>0.000209</td>\n",
       "      <td>0.000005</td>\n",
       "      <td>0.000204</td>\n",
       "      <td>[Car.zonalControllerRearRight.app[185].sink]</td>\n",
       "    </tr>\n",
       "    <tr>\n",
       "      <th>2</th>\n",
       "      <td>5</td>\n",
       "      <td>0.000157</td>\n",
       "      <td>0.000058</td>\n",
       "      <td>0.000099</td>\n",
       "      <td>[Car.adas.app[2].sink]</td>\n",
       "    </tr>\n",
       "    <tr>\n",
       "      <th>3</th>\n",
       "      <td>6</td>\n",
       "      <td>0.001007</td>\n",
       "      <td>0.000006</td>\n",
       "      <td>0.001001</td>\n",
       "      <td>[Car.zonalControllerFrontLeft.app[5].sink]</td>\n",
       "    </tr>\n",
       "  </tbody>\n",
       "</table>\n",
       "</div>"
      ],
      "text/plain": [
       "  pcp  max latency [s]  min latency [s]  jitter [s]  \\\n",
       "0   2         0.000224         0.000031    0.000193   \n",
       "1   4         0.000209         0.000005    0.000204   \n",
       "2   5         0.000157         0.000058    0.000099   \n",
       "3   6         0.001007         0.000006    0.001001   \n",
       "\n",
       "                             stream with max latency  \n",
       "0  [Car.connectivityGateway.app[0].connection[0]....  \n",
       "1       [Car.zonalControllerRearRight.app[185].sink]  \n",
       "2                             [Car.adas.app[2].sink]  \n",
       "3         [Car.zonalControllerFrontLeft.app[5].sink]  "
      ]
     },
     "execution_count": 197,
     "metadata": {},
     "output_type": "execute_result"
    }
   ],
   "source": [
    "latency_jitter_by_priority = []\n",
    "for prio, group in latencies.groupby('pcp'):\n",
    "    sorted = group.sort_values('max e2e delay', ascending = False)\n",
    "    \n",
    "    max_latency = group['max e2e delay'].max()\n",
    "    min_latency = group['max e2e delay'].min()\n",
    "    jitter = max_latency - min_latency\n",
    "\n",
    "    max_stream = group.loc[group['max e2e delay'] == max_latency, 'module'].to_list()\n",
    "\n",
    "    latency_jitter_by_priority.append({\"pcp\": prio,\n",
    "                                       \"max latency [s]\": max_latency,\n",
    "                                       \"min latency [s]\": min_latency,\n",
    "                                       \"jitter [s]\": jitter,\n",
    "                                       \"stream with max latency\": max_stream\n",
    "                                      })\n",
    "\n",
    "df_latency_prio = pd.DataFrame(latency_jitter_by_priority)\n",
    "\n",
    "df_latency_prio.to_csv(\"latency_by_prio.csv\", index=False)\n",
    "df_latency_prio\n",
    "\n",
    "\n",
    "    \n",
    "    "
   ]
  },
  {
   "cell_type": "markdown",
   "id": "a52576c4-993d-4302-87f2-32aed74b1381",
   "metadata": {},
   "source": [
    "### Evaluate if apps receive data"
   ]
  },
  {
   "cell_type": "code",
   "execution_count": 219,
   "id": "fa5e33e4-2a91-4497-b5fb-a1bd1275769f",
   "metadata": {},
   "outputs": [],
   "source": [
    "def get_appno(module):\n",
    "    num = re.findall(r'\\[.*?\\]', module)[0]\n",
    "    nums = re.findall(r'\\d+', num)\n",
    "    if \"..\" in num:\n",
    "        r_nums = []\n",
    "        for i in range (int(nums[0]), int(nums[1])+1):\n",
    "            r_nums.append(i)\n",
    "        return r_nums\n",
    "    else:\n",
    "        return nums"
   ]
  },
  {
   "cell_type": "code",
   "execution_count": 249,
   "id": "ce90d5d3-12ad-4ab8-92e0-e9476174585a",
   "metadata": {},
   "outputs": [],
   "source": [
    "# find all configured sinks\n",
    "df_sinkapps = res.loc[res['attrvalue'].isin([\"UdpSinkApp\", \"TcpClientApp\", \"TcpServerApp\"]), ['attrname', 'attrvalue']]\n",
    "\n",
    "configured_sinks = []\n",
    "for idx, row in df_sinkapps.iterrows():\n",
    "    if \"..\" in row['attrname']: # config for multiple apps\n",
    "        nums = get_appno(row['attrname'])\n",
    "        for n in nums:\n",
    "            sink = get_device(row['attrname']) + \".app[\" + str(n) + \"]\"\n",
    "            configured_sinks.append(sink)\n",
    "    else:\n",
    "        sink = get_device(row['attrname']) + \".app[\" + re.findall(r'\\d+', row['attrname'])[0] + \"]\"\n",
    "        configured_sinks.append(sink)\n"
   ]
  },
  {
   "cell_type": "code",
   "execution_count": 250,
   "id": "4eeb6526-f19f-4b85-b136-d0598fe4059d",
   "metadata": {},
   "outputs": [],
   "source": [
    "# find all sinks that received at least one packet that is counted towards latency-results\n",
    "sinks_receiving_data = latencies['module'].to_list()\n",
    "\n",
    "# and bring them in same format as configured_strings\n",
    "sinks_receiving_data_formatted = []\n",
    "for sink in sinks_receiving_data:\n",
    "    formatted = sink.split(\".\")[1] + \".\" + sink.split(\".\")[2]\n",
    "    sinks_receiving_data_formatted.append(formatted)\n"
   ]
  },
  {
   "cell_type": "code",
   "execution_count": 253,
   "id": "7602c5c4-3a31-40b3-bf62-1b35b6a59846",
   "metadata": {},
   "outputs": [
    {
     "data": {
      "text/plain": [
       "['infotainment.app[14]',\n",
       " 'infotainment.app[15]',\n",
       " 'infotainment.app[16]',\n",
       " 'infotainment.app[17]',\n",
       " 'infotainment.app[18]',\n",
       " 'infotainment.app[19]',\n",
       " 'infotainment.app[20]',\n",
       " 'infotainment.app[21]',\n",
       " 'infotainment.app[22]',\n",
       " 'infotainment.app[23]',\n",
       " 'infotainment.app[24]',\n",
       " 'infotainment.app[25]',\n",
       " 'infotainment.app[26]',\n",
       " 'infotainment.app[27]',\n",
       " 'infotainment.app[28]',\n",
       " 'infotainment.app[29]',\n",
       " 'infotainment.app[30]',\n",
       " 'infotainment.app[31]',\n",
       " 'infotainment.app[32]',\n",
       " 'infotainment.app[33]',\n",
       " 'infotainment.app[34]',\n",
       " 'infotainment.app[35]',\n",
       " 'infotainment.app[36]',\n",
       " 'infotainment.app[37]',\n",
       " 'infotainment.app[38]',\n",
       " 'infotainment.app[39]',\n",
       " 'infotainment.app[40]',\n",
       " 'infotainment.app[41]',\n",
       " 'infotainment.app[42]',\n",
       " 'infotainment.app[43]',\n",
       " 'infotainment.app[44]',\n",
       " 'infotainment.app[45]',\n",
       " 'infotainment.app[46]',\n",
       " 'infotainment.app[47]',\n",
       " 'infotainment.app[48]',\n",
       " 'infotainment.app[49]',\n",
       " 'infotainment.app[50]',\n",
       " 'infotainment.app[51]',\n",
       " 'infotainment.app[52]']"
      ]
     },
     "execution_count": 253,
     "metadata": {},
     "output_type": "execute_result"
    }
   ],
   "source": [
    "# compare the lists\n",
    "\n",
    "# only configured\n",
    "diff_conf = []\n",
    "for s in configured_sinks:\n",
    "    if s not in sinks_receiving_data_formatted:\n",
    "        diff_conf.append(s)\n",
    "\n",
    "diff_conf\n",
    "\n",
    "# all of these apps do have a 'dropped data rate', if you check them by hand, is this wanted?"
   ]
  },
  {
   "cell_type": "code",
   "execution_count": 252,
   "id": "a5c91d97-d26c-4c7f-8452-d064eb1271f1",
   "metadata": {},
   "outputs": [
    {
     "data": {
      "text/plain": [
       "[]"
      ]
     },
     "execution_count": 252,
     "metadata": {},
     "output_type": "execute_result"
    }
   ],
   "source": [
    "# only in results\n",
    "diff_res = []\n",
    "for s in sinks_receiving_data_formatted:\n",
    "    if s not in configured_sinks:\n",
    "        diff_res.append(s)\n",
    "\n",
    "diff_res"
   ]
  },
  {
   "cell_type": "markdown",
   "id": "e0e9dfcc-da8e-4b78-b78c-f40d4afb0a64",
   "metadata": {},
   "source": [
    "## Queueing"
   ]
  },
  {
   "cell_type": "code",
   "execution_count": 285,
   "id": "caa76594-c921-4e0d-a256-8addd9a9b5e3",
   "metadata": {},
   "outputs": [],
   "source": [
    "### Function definitions\n",
    "def get_devicePort(module):\n",
    "    split = module.split(\".\")\n",
    "    return split[1] + \".\" + split[2]\n",
    "\n",
    "def get_queueNo(module):\n",
    "    split = module.split(\".\")\n",
    "    if len(split) < 6:\n",
    "        return \"all\"\n",
    "    else:\n",
    "        return split[5]\n",
    "\n",
    "\n",
    "def extract_maxq(df):\n",
    "    res = df[['runID', 'module', 'value']].dropna()\n",
    "    res.sort_values(by='value', ascending=False, inplace=True)\n",
    "#res_maxq['device'] = res_maxq.apply(lambda row: get_device(row['module']), axis=1)\n",
    "    res['device+port'] = res.apply(lambda row: get_devicePort(row['module']), axis=1)\n",
    "    res['queue'] = res.apply(lambda row: get_queueNo(row['module']), axis=1)\n",
    "    res = res[['runID','device+port', 'queue', 'value']]\n",
    "    return res"
   ]
  },
  {
   "cell_type": "code",
   "execution_count": 290,
   "id": "18958721-3e6c-4490-8dce-366c556da270",
   "metadata": {},
   "outputs": [],
   "source": [
    "res_q = results.read_result_files(filenames = \"General-*.sca\",\n",
    "                                filter_expression = \"module =~ *.eth[*].macLayer.queue* AND name =~ queueLength:max\")"
   ]
  },
  {
   "cell_type": "code",
   "execution_count": 291,
   "id": "e9767573-539c-42b7-9423-5e569c568228",
   "metadata": {},
   "outputs": [],
   "source": [
    "max_q = extract_maxq(res_q)"
   ]
  },
  {
   "cell_type": "code",
   "execution_count": 296,
   "id": "4247773a-7a00-4750-a608-fc9ebbb2cbb6",
   "metadata": {},
   "outputs": [
    {
     "data": {
      "text/html": [
       "<div>\n",
       "<style scoped>\n",
       "    .dataframe tbody tr th:only-of-type {\n",
       "        vertical-align: middle;\n",
       "    }\n",
       "\n",
       "    .dataframe tbody tr th {\n",
       "        vertical-align: top;\n",
       "    }\n",
       "\n",
       "    .dataframe thead th {\n",
       "        text-align: right;\n",
       "    }\n",
       "</style>\n",
       "<table border=\"1\" class=\"dataframe\">\n",
       "  <thead>\n",
       "    <tr style=\"text-align: right;\">\n",
       "      <th></th>\n",
       "      <th>prio</th>\n",
       "      <th>max</th>\n",
       "      <th>port</th>\n",
       "    </tr>\n",
       "  </thead>\n",
       "  <tbody>\n",
       "    <tr>\n",
       "      <th>0</th>\n",
       "      <td>all</td>\n",
       "      <td>185.0</td>\n",
       "      <td>[zonalControllerRearRight.eth[0]]</td>\n",
       "    </tr>\n",
       "    <tr>\n",
       "      <th>1</th>\n",
       "      <td>0</td>\n",
       "      <td>131.0</td>\n",
       "      <td>[zonalControllerFrontLeft.eth[0]]</td>\n",
       "    </tr>\n",
       "    <tr>\n",
       "      <th>2</th>\n",
       "      <td>2</td>\n",
       "      <td>1.0</td>\n",
       "      <td>[switchFrontRight.eth[1], connectivityGateway....</td>\n",
       "    </tr>\n",
       "    <tr>\n",
       "      <th>3</th>\n",
       "      <td>4</td>\n",
       "      <td>79.0</td>\n",
       "      <td>[zonalControllerRearRight.eth[0]]</td>\n",
       "    </tr>\n",
       "    <tr>\n",
       "      <th>4</th>\n",
       "      <td>5</td>\n",
       "      <td>6.0</td>\n",
       "      <td>[switchRearRight.eth[2], switchRearLeft.eth[1]]</td>\n",
       "    </tr>\n",
       "    <tr>\n",
       "      <th>5</th>\n",
       "      <td>6</td>\n",
       "      <td>8.0</td>\n",
       "      <td>[switchRearRight.eth[3]]</td>\n",
       "    </tr>\n",
       "    <tr>\n",
       "      <th>6</th>\n",
       "      <td>7</td>\n",
       "      <td>2.0</td>\n",
       "      <td>[zonalControllerFrontLeft.eth[0], cameraFront....</td>\n",
       "    </tr>\n",
       "  </tbody>\n",
       "</table>\n",
       "</div>"
      ],
      "text/plain": [
       "  prio    max                                               port\n",
       "0  all  185.0                  [zonalControllerRearRight.eth[0]]\n",
       "1    0  131.0                  [zonalControllerFrontLeft.eth[0]]\n",
       "2    2    1.0  [switchFrontRight.eth[1], connectivityGateway....\n",
       "3    4   79.0                  [zonalControllerRearRight.eth[0]]\n",
       "4    5    6.0    [switchRearRight.eth[2], switchRearLeft.eth[1]]\n",
       "5    6    8.0                           [switchRearRight.eth[3]]\n",
       "6    7    2.0  [zonalControllerFrontLeft.eth[0], cameraFront...."
      ]
     },
     "execution_count": 296,
     "metadata": {},
     "output_type": "execute_result"
    }
   ],
   "source": [
    "# queues by priority\n",
    "\n",
    "qs = []\n",
    "for q, group in max_q.groupby('queue'):\n",
    "    max = group['value'].max()\n",
    "    port = group.loc[group['value'] == max]\n",
    "    ports = port['device+port'].to_list()\n",
    "    if q == \"all\":\n",
    "       qs.append({\"prio\": \"all\",\n",
    "                \"max\": max,\n",
    "                 \"port\": ports}) \n",
    "    else:\n",
    "        prio = re.findall(r'\\d+', q)[0]\n",
    "        qs.append({\"prio\": prio,\n",
    "                   \"max\": max,\n",
    "                   \"port\": ports})\n",
    "\n",
    "df_qs = pd.DataFrame(qs)\n",
    "\n",
    "df_qs\n",
    "    "
   ]
  },
  {
   "cell_type": "code",
   "execution_count": null,
   "id": "03f2127f-0cf6-42ea-a0b0-6144c34701c1",
   "metadata": {},
   "outputs": [],
   "source": []
  },
  {
   "cell_type": "code",
   "execution_count": null,
   "id": "28628d2a-c4d7-42c2-9a28-4396bd806aa7",
   "metadata": {},
   "outputs": [],
   "source": []
  }
 ],
 "metadata": {
  "kernelspec": {
   "display_name": "Python 3 (ipykernel)",
   "language": "python",
   "name": "python3"
  },
  "language_info": {
   "codemirror_mode": {
    "name": "ipython",
    "version": 3
   },
   "file_extension": ".py",
   "mimetype": "text/x-python",
   "name": "python",
   "nbconvert_exporter": "python",
   "pygments_lexer": "ipython3",
   "version": "3.10.12"
  }
 },
 "nbformat": 4,
 "nbformat_minor": 5
}
